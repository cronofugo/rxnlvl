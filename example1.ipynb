{
 "cells": [
  {
   "cell_type": "code",
   "execution_count": null,
   "id": "f506ccdd-b276-4396-9067-f04e564a28a8",
   "metadata": {},
   "outputs": [],
   "source": [
    "# Importar el módulo\n",
    "from rxnplot import *"
   ]
  },
  {
   "cell_type": "code",
   "execution_count": null,
   "id": "86ccbbea-1412-4591-a3a6-121c1211f6b4",
   "metadata": {},
   "outputs": [],
   "source": [
    "# Crear un objeto de diagrama\n",
    "p = plot(10.0, zero=energy(0.0, 'kjmol'), units='kcalmol', digits=1, qualified=True)\n",
    "\n",
    "# Agregar una línea base\n",
    "p.add_baseline(colour=0x0, mode='dashed', opacity=0.1)\n",
    "\n",
    "# Agregar los niveles de energía\n",
    "p.add_level(   '1', energy(   0.0, 'kjmol'))\n",
    "p.add_level( 'EC1', energy( -75.5, 'kjmol'))\n",
    "p.add_level('TS1a', energy(  74.0, 'kjmol'))\n",
    "p.add_level( 'DC1', energy(-102.0, 'kjmol'))\n",
    "p.add_level( 'TS2', energy( -42.0, 'kjmol'))\n",
    "p.add_level(   '2', energy(-145.0, 'kjmol'))\n",
    "p.new_branch()\n",
    "p.add_level( 'EC1')\n",
    "p.add_level('TS1b', energy(  10.0, 'kjmol'))\n",
    "p.add_level(   '2')\n",
    "\n",
    "# Visualizar el diagrama\n",
    "p.render()"
   ]
  },
  {
   "cell_type": "code",
   "execution_count": null,
   "id": "4776812b-c182-43c7-901f-90a5a909c0a9",
   "metadata": {},
   "outputs": [],
   "source": [
    "# Guardar el diagrama en un archivo SVG\n",
    "p.write(\"diagram1.svg\")"
   ]
  },
  {
   "cell_type": "code",
   "execution_count": null,
   "id": "fe0f08a2-16ab-404c-a21e-ec634fbf5ca0",
   "metadata": {},
   "outputs": [],
   "source": [
    "# Guardar el diagrama en un archivo PDF\n",
    "p.write(\"diagram1.pdf\")"
   ]
  },
  {
   "cell_type": "code",
   "execution_count": null,
   "id": "e426c36b-6a4c-47cc-90f0-b7e0f6579979",
   "metadata": {},
   "outputs": [],
   "source": [
    "# Guardar el diagrama en un archivo PNG\n",
    "p.write(\"diagram1.png\", scale=2)"
   ]
  }
 ],
 "metadata": {
  "kernelspec": {
   "display_name": "Python 3 (ipykernel)",
   "language": "python",
   "name": "python3"
  },
  "language_info": {
   "codemirror_mode": {
    "name": "ipython",
    "version": 3
   },
   "file_extension": ".py",
   "mimetype": "text/x-python",
   "name": "python",
   "nbconvert_exporter": "python",
   "pygments_lexer": "ipython3",
   "version": "3.10.6"
  }
 },
 "nbformat": 4,
 "nbformat_minor": 5
}
