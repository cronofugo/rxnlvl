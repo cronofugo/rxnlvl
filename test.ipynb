{
 "cells": [
  {
   "cell_type": "code",
   "execution_count": 6,
   "id": "17d0a5df-ecd4-43b5-8b85-40e28f195ed9",
   "metadata": {},
   "outputs": [
    {
     "name": "stderr",
     "output_type": "stream",
     "text": [
      "INFO: Plot background colour is not set or invalid - plot background will be transparent\n"
     ]
    },
    {
     "data": {
      "image/svg+xml": [
       "<svg height=\"10.0cm\" version=\"1.1\" width=\"25.0cm\" xmlns=\"http://www.w3.org/2000/svg\">\n",
       "    <line stroke=\"#000000\" stroke-dasharray=\"5,5\" stroke-linecap=\"round\" stroke-opacity=\"0.1\" stroke-width=\"1\" x1=\"0.0%\" x2=\"100.0%\" y1=\"67.1001926782%\" y2=\"67.1001926782%\"/>\n",
       "    <line stroke=\"#000000\" stroke-opacity=\"0.4\" stroke-width=\"1\" x1=\"13.0555555556%\" x2=\"23.6111111111%\" y1=\"67.1001926782%\" y2=\"87.6926782274%\"/>\n",
       "    <line stroke=\"#000000\" stroke-opacity=\"0.2\" stroke-width=\"1\" x1=\"34.1666666667%\" x2=\"44.7222222222%\" y1=\"87.6926782274%\" y2=\"8.33333333333%\"/>\n",
       "    <line stroke=\"#000000\" stroke-opacity=\"0.4\" stroke-width=\"1\" x1=\"34.1666666667%\" x2=\"44.7222222222%\" y1=\"87.6926782274%\" y2=\"54.816955684%\"/>\n",
       "    <line stroke=\"#000000\" stroke-opacity=\"0.2\" stroke-width=\"1\" x1=\"55.2777777778%\" x2=\"65.8333333333%\" y1=\"8.33333333333%\" y2=\"91.6666666667%\"/>\n",
       "    <line stroke=\"#000000\" stroke-opacity=\"0.4\" stroke-width=\"1\" x1=\"55.2777777778%\" x2=\"65.8333333333%\" y1=\"54.816955684%\" y2=\"91.6666666667%\"/>\n",
       "    <line stroke=\"#000000\" stroke-opacity=\"0.4\" stroke-width=\"1\" x1=\"76.3888888889%\" x2=\"86.9444444444%\" y1=\"91.6666666667%\" y2=\"86.8497109827%\"/>\n",
       "    <line stroke=\"#000000\" stroke-linecap=\"round\" stroke-width=\"3\" x1=\"2.5%\" x2=\"13.0555555556%\" y1=\"67.1001926782%\" y2=\"67.1001926782%\"/>\n",
       "    <text dy=\"-1ex\" fill=\"#000000\" font-family=\"sans-serif\" text-anchor=\"middle\" x=\"7.77777777778%\" y=\"67.1001926782%\">1</text>\n",
       "    <text dy=\"1ex\" fill=\"#000000\" font-family=\"sans-serif\" font-size=\"8pt\" text-anchor=\"middle\" x=\"7.77777777778%\" y=\"71.1001926782%\">0 kJ·mol⁻¹</text>\n",
       "    <line stroke=\"#000000\" stroke-linecap=\"round\" stroke-width=\"3\" x1=\"23.6111111111%\" x2=\"34.1666666667%\" y1=\"87.6926782274%\" y2=\"87.6926782274%\"/>\n",
       "    <text dy=\"-1ex\" fill=\"#000000\" font-family=\"sans-serif\" text-anchor=\"middle\" x=\"28.8888888889%\" y=\"87.6926782274%\">EC1</text>\n",
       "    <text dy=\"1ex\" fill=\"#000000\" font-family=\"sans-serif\" font-size=\"8pt\" text-anchor=\"middle\" x=\"28.8888888889%\" y=\"91.6926782274%\">-85.5</text>\n",
       "    <line stroke=\"#ff4444\" stroke-linecap=\"round\" stroke-width=\"3\" x1=\"44.7222222222%\" x2=\"55.2777777778%\" y1=\"8.33333333333%\" y2=\"8.33333333333%\"/>\n",
       "    <text dy=\"-1ex\" fill=\"#000000\" font-family=\"sans-serif\" text-anchor=\"middle\" x=\"50.0%\" y=\"8.33333333333%\">TS1a</text>\n",
       "    <text dy=\"1ex\" fill=\"#000000\" font-family=\"sans-serif\" font-size=\"8pt\" text-anchor=\"middle\" x=\"50.0%\" y=\"12.3333333333%\">244</text>\n",
       "    <line stroke=\"#000000\" stroke-linecap=\"round\" stroke-width=\"3\" x1=\"44.7222222222%\" x2=\"55.2777777778%\" y1=\"54.816955684%\" y2=\"54.816955684%\"/>\n",
       "    <text dy=\"-1ex\" fill=\"#000000\" font-family=\"sans-serif\" text-anchor=\"middle\" x=\"50.0%\" y=\"54.816955684%\">TS1b</text>\n",
       "    <text dy=\"1ex\" fill=\"#000000\" font-family=\"sans-serif\" font-size=\"8pt\" text-anchor=\"middle\" x=\"50.0%\" y=\"58.816955684%\">51</text>\n",
       "    <line stroke=\"#000000\" stroke-linecap=\"round\" stroke-width=\"3\" x1=\"65.8333333333%\" x2=\"76.3888888889%\" y1=\"91.6666666667%\" y2=\"91.6666666667%\"/>\n",
       "    <text dy=\"-1ex\" fill=\"#000000\" font-family=\"sans-serif\" text-anchor=\"middle\" x=\"71.1111111111%\" y=\"91.6666666667%\">DC1</text>\n",
       "    <text dy=\"1ex\" fill=\"#000000\" font-family=\"sans-serif\" font-size=\"8pt\" text-anchor=\"middle\" x=\"71.1111111111%\" y=\"95.6666666667%\">-102</text>\n",
       "    <line stroke=\"#000000\" stroke-linecap=\"round\" stroke-width=\"3\" x1=\"86.9444444444%\" x2=\"97.5%\" y1=\"86.8497109827%\" y2=\"86.8497109827%\"/>\n",
       "    <text dy=\"-1ex\" fill=\"#000000\" font-family=\"sans-serif\" text-anchor=\"middle\" x=\"92.2222222222%\" y=\"86.8497109827%\">2</text>\n",
       "    <text dy=\"1ex\" fill=\"#000000\" font-family=\"sans-serif\" font-size=\"8pt\" text-anchor=\"middle\" x=\"92.2222222222%\" y=\"90.8497109827%\">-82</text>\n",
       "</svg>"
      ],
      "text/plain": [
       "<IPython.core.display.SVG object>"
      ]
     },
     "metadata": {},
     "output_type": "display_data"
    }
   ],
   "source": [
    "from rxnlvl import *\n",
    "\n",
    "# Plot\n",
    "p = plot([25.0,10.0],vbuf=10.0,hbuf=5.0,bgcolour=None, qualified='sortof')\n",
    "\n",
    "p +  level(energy(    0, 'kjmol'),  1,    '1',      0x0) \n",
    "p +  level(energy(-85.5, 'kjmol'),  2,  'EC1',      0x0)\n",
    "p +  level(energy(  244, 'kjmol'),  3, 'TS1a', 0xFF4444)\n",
    "p +  level(energy(   51, 'kjmol'),  3, 'TS1b',      0x0)\n",
    "p +  level(energy( -102, 'kjmol'),  4,  'DC1',      0x0)\n",
    "p +  level(energy(  -82, 'kjmol'),  5,    '2',      0x0)\n",
    "\n",
    "p +  edge(    '1',  'EC1', 0x0, 0.4, 'normal') \n",
    "p +  edge(  'EC1', 'TS1a', 0x0, 0.2, 'normal') \n",
    "p +  edge(  'EC1', 'TS1b', 0x0, 0.4, 'normal') \n",
    "p +  edge( 'TS1a',  'DC1', 0x0, 0.2, 'normal') \n",
    "p +  edge( 'TS1b',  'DC1', 0x0, 0.4, 'normal') \n",
    "p +  edge(  'DC1',    '2', 0x0, 0.4, 'normal')\n",
    "\n",
    "\n",
    "p + baseline(energy( 0.0, 'kjmol'),colour=0x0,mode='dashed',opacity=0.1)\n",
    "p.render()"
   ]
  },
  {
   "cell_type": "code",
   "execution_count": null,
   "id": "229c7479-dd23-4654-940b-de1bb5b7dcac",
   "metadata": {},
   "outputs": [],
   "source": []
  }
 ],
 "metadata": {
  "kernelspec": {
   "display_name": "Python 2",
   "language": "python",
   "name": "py27"
  },
  "language_info": {
   "codemirror_mode": {
    "name": "ipython",
    "version": 2
   },
   "file_extension": ".py",
   "mimetype": "text/x-python",
   "name": "python",
   "nbconvert_exporter": "python",
   "pygments_lexer": "ipython2",
   "version": "2.7.15"
  }
 },
 "nbformat": 4,
 "nbformat_minor": 5
}
