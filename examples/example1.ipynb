{
 "cells": [
  {
   "cell_type": "code",
   "execution_count": null,
   "id": "f506ccdd-b276-4396-9067-f04e564a28a8",
   "metadata": {},
   "outputs": [],
   "source": [
    "# Importar el módulo\n",
    "from rxnplot import plot, energy"
   ]
  },
  {
   "cell_type": "code",
   "execution_count": null,
   "id": "86ccbbea-1412-4591-a3a6-121c1211f6b4",
   "metadata": {},
   "outputs": [],
   "source": [
    "# Crear un objeto de diagrama\n",
    "p = plot(height=8, zero=energy(0.0, 'kjmol'), units='kcalmol', decimals=1, qualified=False)\n",
    "\n",
    "# Agregar una línea base\n",
    "p.new_baseline(color='black', mode='dashed', opacity=0.1)\n",
    "\n",
    "# Agregar los niveles de energía\n",
    "p.new_level(  '1', energy(  0.0, 'kcalmol'))\n",
    "p.new_level('TS1', energy( 8.7, 'kcalmol'))\n",
    "p.new_level(  '2', energy(-11.5, 'kcalmol'))\n",
    "p.new_level('TS2', energy( 13.4, 'kcalmol'), color='green')\n",
    "p.new_level('DC1', energy(-10.4, 'kcalmol'), color='green')\n",
    "p.new_level('TS3', energy(  2.8, 'kcalmol'), color='green')\n",
    "p.new_level('DC2', energy(-22.2, 'kcalmol'), color='green')\n",
    "p.new_level('TS4', energy( -1.4, 'kcalmol'), color='green')\n",
    "p.new_level(  '3', energy(-20.6, 'kcalmol'))\n",
    "p.new_level('TS5', energy( -6.9, 'kcalmol'))\n",
    "p.new_level(  '4', energy(-26.8, 'kcalmol'))\n",
    "p.new_branch('2')\n",
    "p.new_level('TS6', energy(  7.4, 'kcalmol'), offset=1.8, color='red')\n",
    "p.new_level('EC1', energy(-18.0, 'kcalmol'), offset=1.2, color='red')\n",
    "p.new_level('TS7', energy( -6.5, 'kcalmol'), offset=1.2, color='red')\n",
    "p.add_level('3')\n",
    "\n",
    "# Visualizar el diagrama\n",
    "p.render()"
   ]
  },
  {
   "cell_type": "code",
   "execution_count": null,
   "id": "7b0e087d-8048-45ce-93e7-cb22f1315c53",
   "metadata": {
    "tags": []
   },
   "outputs": [],
   "source": [
    "p.new_profile()\n",
    "p.new_level(  '1a', energy(  12.0, 'kcalmol'), color='blue')\n",
    "p.new_level('TS1a', energy( 23.4, 'kcalmol'), color='blue')\n",
    "p.new_level(  '2a', energy(11.7, 'kcalmol'), color='blue')\n",
    "p.new_level('TS2a', energy(31.0, 'kcalmol'), color='blue')\n",
    "p.new_level(  'BC', energy(18.4, 'kcalmol'), color='blue')\n",
    "p.render()"
   ]
  },
  {
   "cell_type": "code",
   "execution_count": null,
   "id": "e426c36b-6a4c-47cc-90f0-b7e0f6579979",
   "metadata": {},
   "outputs": [],
   "source": [
    "# Guardar el diagrama en un archivo PNG\n",
    "p.write(\"diagram1.png\", scale=1)"
   ]
  },
  {
   "cell_type": "code",
   "execution_count": null,
   "id": "fe0f08a2-16ab-404c-a21e-ec634fbf5ca0",
   "metadata": {},
   "outputs": [],
   "source": [
    "# Guardar el diagrama en un archivo PDF\n",
    "p.write(\"diagram1.pdf\")"
   ]
  },
  {
   "cell_type": "code",
   "execution_count": null,
   "id": "4776812b-c182-43c7-901f-90a5a909c0a9",
   "metadata": {},
   "outputs": [],
   "source": [
    "# Guardar el diagrama en un archivo SVG\n",
    "p.write(\"diagram1.svg\")"
   ]
  }
 ],
 "metadata": {
  "kernelspec": {
   "display_name": "Python 3 (ipykernel)",
   "language": "python",
   "name": "python3"
  },
  "language_info": {
   "codemirror_mode": {
    "name": "ipython",
    "version": 3
   },
   "file_extension": ".py",
   "mimetype": "text/x-python",
   "name": "python",
   "nbconvert_exporter": "python",
   "pygments_lexer": "ipython3",
   "version": "3.10.9"
  }
 },
 "nbformat": 4,
 "nbformat_minor": 5
}
